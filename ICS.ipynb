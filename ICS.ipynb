{
 "cells": [
  {
   "cell_type": "markdown",
   "id": "29be9c28",
   "metadata": {},
   "source": [
    "# INITIALISATION"
   ]
  },
  {
   "cell_type": "code",
   "execution_count": 22,
   "id": "a5c801c3",
   "metadata": {},
   "outputs": [],
   "source": [
    "import random\n",
    "def get_random_permutation(n):\n",
    "    out = [i+1 for i in range(n)]\n",
    "    random.shuffle(out)\n",
    "    return out"
   ]
  },
  {
   "cell_type": "code",
   "execution_count": 23,
   "id": "d590a09b",
   "metadata": {},
   "outputs": [
    {
     "name": "stdout",
     "output_type": "stream",
     "text": [
      "IP [1, 4, 2, 8, 3, 6, 5, 7]\n",
      "IP_INV [1, 3, 5, 2, 7, 6, 8, 4]\n"
     ]
    }
   ],
   "source": [
    "IP=get_random_permutation(8)\n",
    "IP_INV=[1]*8\n",
    "\n",
    "for i in range(len(IP)):\n",
    "    IP_INV[IP[i]-1]=i+1\n",
    "    \n",
    "print(\"IP\",IP)\n",
    "print(\"IP_INV\",IP_INV)"
   ]
  },
  {
   "cell_type": "code",
   "execution_count": 24,
   "id": "7bdba3ea",
   "metadata": {},
   "outputs": [
    {
     "name": "stdout",
     "output_type": "stream",
     "text": [
      "[2, 4, 1, 3, 2, 4, 1, 3]\n"
     ]
    }
   ],
   "source": [
    "EP=get_random_permutation(4)*2\n",
    "print(EP)"
   ]
  },
  {
   "cell_type": "code",
   "execution_count": 27,
   "id": "4783c66d",
   "metadata": {},
   "outputs": [
    {
     "name": "stdout",
     "output_type": "stream",
     "text": [
      "[1, 2, 6, 3, 7, 4, 10, 9]\n"
     ]
    }
   ],
   "source": [
    "P10=get_random_permutation(10)\n",
    "print(P8)"
   ]
  },
  {
   "cell_type": "code",
   "execution_count": 28,
   "id": "ff7a9e07",
   "metadata": {},
   "outputs": [
    {
     "name": "stdout",
     "output_type": "stream",
     "text": [
      "[7, 5, 2, 10, 8, 9, 1, 6]\n"
     ]
    }
   ],
   "source": [
    "P8=random.sample(get_random_permutation(10),8)\n",
    "print(P8)"
   ]
  },
  {
   "cell_type": "markdown",
   "id": "1f99330f",
   "metadata": {},
   "source": [
    "# Helper functions"
   ]
  },
  {
   "cell_type": "code",
   "execution_count": 29,
   "id": "a80ea687",
   "metadata": {},
   "outputs": [],
   "source": [
    "def bin_to_dec(x):\n",
    "    return int(x,2)\n",
    "\n",
    "def dec_to_bin(x):\n",
    "    return bin(x).replace(\"0b\",\"\")\n"
   ]
  },
  {
   "cell_type": "code",
   "execution_count": 30,
   "id": "f30a9e1a",
   "metadata": {},
   "outputs": [],
   "source": [
    "\n",
    "\n",
    "def permutate(key, perm):\n",
    "  ret = \"\"\n",
    "  for k in perm:\n",
    "    ret += key[k-1]\n",
    "  return ret"
   ]
  },
  {
   "cell_type": "code",
   "execution_count": 31,
   "id": "37db1a12",
   "metadata": {},
   "outputs": [],
   "source": [
    "def xor(a,b):\n",
    "    ret=\"\"\n",
    "    for i in range(len(a)):\n",
    "        if a[i]==b[i]:\n",
    "            ret+=\"0\"\n",
    "        else:\n",
    "            ret+=\"1\"\n",
    "    return ret"
   ]
  },
  {
   "cell_type": "code",
   "execution_count": 32,
   "id": "cf58cb1f",
   "metadata": {},
   "outputs": [],
   "source": [
    "def left_circular_shift(x,shift=1):\n",
    "    shifts=shifts%len(x)\n",
    "    return x[shifts:]+x[:shifts]"
   ]
  },
  {
   "cell_type": "code",
   "execution_count": 33,
   "id": "01d6ad2e",
   "metadata": {},
   "outputs": [],
   "source": [
    "def split_str(key):\n",
    "    half=len(key)//2\n",
    "    key1=key[:half]\n",
    "    key2=key[half:]\n",
    "    return key1,key2\n",
    "    "
   ]
  },
  {
   "cell_type": "code",
   "execution_count": 34,
   "id": "5705e62c",
   "metadata": {},
   "outputs": [],
   "source": [
    "s0 = [\n",
    "    [1, 0, 3, 2],\n",
    "    [3, 2, 1, 0],\n",
    "    [0, 2, 1, 3],\n",
    "    [3, 1, 3, 2]\n",
    "]\n",
    "s1 = [\n",
    "    [0, 1, 2, 3],\n",
    "    [2, 0, 1, 3],\n",
    "    [3, 0, 1, 0],\n",
    "    [2, 1, 0, 3]\n",
    "]"
   ]
  },
  {
   "cell_type": "markdown",
   "id": "bc5d948f",
   "metadata": {},
   "source": [
    "# Functions"
   ]
  },
  {
   "cell_type": "code",
   "execution_count": 35,
   "id": "59a83d3a",
   "metadata": {},
   "outputs": [],
   "source": [
    "def getkeys(key):\n",
    "    n_key=permutate(key,P10)\n",
    "    left_key,right_key=split_str(n_key)\n",
    "    \n",
    "    left_key=left_circular_shift(left_key,1)\n",
    "    right_key=left_circular_shift(right_key,1)\n",
    "    \n",
    "    k1=permutate(left_key+right_key,P8)\n",
    "    left_key=left_circular_shift(left_key,2)\n",
    "    right_key=left_circular_shift(right_key,2)\n",
    "    \n",
    "    k2=permutate(left_key+right_key,P8)\n",
    "    \n",
    "    return k1,k2"
   ]
  },
  {
   "cell_type": "code",
   "execution_count": 36,
   "id": "694155a3",
   "metadata": {},
   "outputs": [],
   "source": [
    "def s_box(text,s):\n",
    "    r=text[0]+text[3]\n",
    "    c=text[1]+text[2]\n",
    "    \n",
    "    r=bin_to_dec(r)\n",
    "    c=bin_to_dec(c)\n",
    "    \n",
    "    out=s[r][c]\n",
    "    out=dec_to_bin(out)\n",
    "    \n",
    "    if len(out) < 2:\n",
    "        out=\"0\"+out\n",
    "    return out\n",
    "        "
   ]
  },
  {
   "cell_type": "code",
   "execution_count": 37,
   "id": "56b809ff",
   "metadata": {},
   "outputs": [],
   "source": [
    "def function(left,right,subkey):\n",
    "    text=right\n",
    "    text=permutate(text,EP)\n",
    "    text=xor(text,subkey)\n",
    "    text_left,text_right=split_str(text)\n",
    "    text=s_box(text_left,s0)+s_box(text_right,s1)\n",
    "    text=xor(text,left)\n",
    "    return text,right"
   ]
  },
  {
   "cell_type": "code",
   "execution_count": 38,
   "id": "12d3853c",
   "metadata": {},
   "outputs": [],
   "source": [
    "def encryption(plaintext,key):\n",
    "    k1,k2=getkeys(key)\n",
    "    ciphertext=permutate(plaintext,IP)\n",
    "    left,right=split_str(ciphertext)\n",
    "    \n",
    "    left_right=function(left,right,k1)\n",
    "    left,right=right,left\n",
    "    left_right=function(left,right,k2)\n",
    "    \n",
    "    ciphertext=permutate(left+right,IP_INV)\n",
    "    return ciphertext\n",
    "\n",
    "\n",
    "def decryption(ciphertext,key):\n",
    "    k1,k2=getkeys(key)\n",
    "    plaintext=permutate(ciphertext,IP)\n",
    "    left,right=split_str(plaintext)\n",
    "    \n",
    "    left_right=function(left,right,k2)\n",
    "    left,right=right,left\n",
    "    left_right=function(left,right,k1)\n",
    "    \n",
    "    plaintext=permutate(left+right,IP_INV)\n",
    "    return plaintext\n",
    "    "
   ]
  },
  {
   "cell_type": "code",
   "execution_count": null,
   "id": "4c635cf5",
   "metadata": {},
   "outputs": [],
   "source": [
    "key = \"1010001011\"\n",
    "plaintext = \"10001010\""
   ]
  },
  {
   "cell_type": "code",
   "execution_count": null,
   "id": "1b10048c",
   "metadata": {},
   "outputs": [],
   "source": [
    "c = encryption(plaintext, key)\n",
    "print(c)\n",
    "p = decryption(c, key)\n",
    "print(p)"
   ]
  },
  {
   "cell_type": "code",
   "execution_count": null,
   "id": "8d33b6b7",
   "metadata": {},
   "outputs": [],
   "source": [
    "##RSA"
   ]
  },
  {
   "cell_type": "code",
   "execution_count": null,
   "id": "3a96d92d",
   "metadata": {},
   "outputs": [],
   "source": [
    "import random\n",
    "\n",
    "def generate_key():\n",
    "    p=random.randint(2,999)\n",
    "    q=random.randint(2,999)\n",
    "    \n",
    "    flag1=isprime(q)\n",
    "    flag2=isprime(p)\n",
    "    \n",
    "    if flag1==0 and flag2==0:\n",
    "        RSA(p,q)\n",
    "    else:\n",
    "        generate_key()\n",
    "        \n",
    "        \n",
    "def isprime(num):\n",
    "    flag=0\n",
    "    r=int(num/2)\n",
    "    for i in range(2,r):\n",
    "        if(num%i==0):\n",
    "            flag=1\n",
    "            break\n",
    "        \n",
    "        \n",
    "    return flag\n",
    "\n",
    "def RSA(a,b):\n",
    "    print(\"prime number {} and {}\".format(a,b))\n",
    "    \n",
    "    N=a*b\n",
    "    product=(a-1)*(b-1)\n",
    "    \n",
    "    #finding E\n",
    "    \n",
    "    for i in range(1,99999):\n",
    "        if product%i==0:\n",
    "            E=i\n",
    "            break\n",
    "            \n",
    "            \n",
    "    #finding D\n",
    "    for i in range(0,product-1):\n",
    "        if ((i*E)%product==1):\n",
    "            D=i\n",
    "            break\n",
    "            \n",
    "            \n",
    "    PT=[]\n",
    "    pt=[]\n",
    "    ct=[]\n",
    "    CT=[]\n",
    "    \n",
    "    PT=input(\"Enter the plain text:\")\n",
    "    for i in PT:\n",
    "        pt.append(ord(i))\n",
    "    print(\"plain text:\", PT)\n",
    "    for i in pt:\n",
    "        ct.append((i**E)%N)\n",
    "        \n",
    "    print(\"cipher text:\",ct)\n",
    "    \n",
    "    for i in ct:\n",
    "        CT.append(chr(((i**D)%N)))\n",
    "        \n",
    "        \n",
    "    print(\"Decrypted key:\",end=\"\")\n",
    "    for i in CT:\n",
    "        print(i,end=\"\")\n",
    "        \n",
    "        \n",
    "N=0\n",
    "E=0\n",
    "D=0\n",
    "generate_key()\n",
    "        "
   ]
  },
  {
   "cell_type": "code",
   "execution_count": null,
   "id": "9715b109",
   "metadata": {},
   "outputs": [],
   "source": [
    "##ECC"
   ]
  },
  {
   "cell_type": "code",
   "execution_count": null,
   "id": "ed73be14",
   "metadata": {},
   "outputs": [],
   "source": [
    "import math\n",
    "import random\n",
    "\n",
    "def generate_points(a,b):\n",
    "    if(4*(a**3) + 27*(b**2) !=0):\n",
    "        x=1\n",
    "        print(\"generating\")\n",
    "        while True:\n",
    "            rhs= (x**3)+(a*x)+b\n",
    "            y=int(math.sqrt(rhs))\n",
    "            lhs= (y**2)\n",
    "            if lhs==rhs:\n",
    "                \n",
    "                return [x,y]\n",
    "        \n",
    "            else:\n",
    "                x+=1\n",
    "                \n",
    "                \n",
    "    else:\n",
    "        print(\"enter other coffiecient\")\n",
    "        \n",
    "        \n",
    "a=int(input(\"enter a\"))\n",
    "b=int(input(\"enter b\"))\n",
    "\n",
    "Private_a=13\n",
    "Private_b=15\n",
    "\n",
    "generators=generate_points(a,b)\n",
    "\n",
    "msg=int(input(\"Enter the text:\"))\n",
    "\n",
    "public_a=[generators[0]*Private_a, generators[1]*Private_a]\n",
    "public_b=[generators[0]*Private_b, generators[1]*Private_b]\n",
    "\n",
    "\n",
    "print(\"Public Key A:\", public_a)\n",
    "print(\"Public Key B:\", public_b)\n",
    "\n",
    "k=random.randint(0,10)\n",
    "\n",
    "c1= k * (generators[0]+generators[1])\n",
    "c2= msg + (k*public_b[0]+k*public_b[1])\n",
    "\n",
    "ciphertext=[c1,c2]\n",
    "\n",
    "print(\"Ciphertext:\",ciphertext)\n",
    "\n",
    "\n",
    "r=Private_b*c1\n",
    "plaintext=c2-r\n",
    "\n",
    "print(\"Plaintext:\",plaintext)\n",
    "\n",
    "\n",
    "\n",
    "        \n",
    "                "
   ]
  },
  {
   "cell_type": "code",
   "execution_count": null,
   "id": "36993dc7",
   "metadata": {},
   "outputs": [],
   "source": []
  },
  {
   "cell_type": "code",
   "execution_count": null,
   "id": "4a0e4650",
   "metadata": {},
   "outputs": [],
   "source": [
    "import random\n",
    "\n",
    "def DHA():\n",
    "    P=int(input(\"Enter P:Prime number\"))\n",
    "    flag=isprime(P)\n",
    "    if flag==1:\n",
    "        DHA()\n",
    "    else:\n",
    "        G=int(input(\"Enter primitive root for P:G\"))\n",
    "        print(\"value of P:\",P)\n",
    "        print(\"value of G:\",G)\n",
    "        \n",
    "        a=int(input(\"Enter private key for a\"))\n",
    "        b=int(input(\"Enter private key for b\"))\n",
    "        print(\"Private A :\",a)\n",
    "        print(\"Private B :\",b)\n",
    "        \n",
    "        \n",
    "        \n",
    "        x=int(pow(G,a,P))\n",
    "        y=int(pow(G,b,P))\n",
    "        \n",
    "        \n",
    "        print(\"Public A:\",x)\n",
    "        print(\"Public B:\",y)\n",
    "        \n",
    "        ka=int(pow(y,a,P))\n",
    "        kb=int(pow(x,b,P))\n",
    "        \n",
    "        print(\"secret key of a:\",ka)\n",
    "        print(\"secret key of b:\",kb)\n",
    "        \n",
    "        \n",
    "        \n",
    "        \n",
    "DHA()        "
   ]
  },
  {
   "cell_type": "code",
   "execution_count": null,
   "id": "88977190",
   "metadata": {},
   "outputs": [],
   "source": [
    "import random\n",
    "\n",
    "def generate_key():\n",
    "    p=random.randint(2,999)\n",
    "    q=random.randint(2,999)\n",
    "    \n",
    "    flag1=isprime(q)\n",
    "    flag2=isprime(p)\n",
    "    \n",
    "    if flag1==0 and flag2==0:\n",
    "        RSA(p,q)\n",
    "    else:\n",
    "        generate_key()\n",
    "        \n",
    "        \n",
    "def isprime(num):\n",
    "    flag=0\n",
    "    r=int(num/2)\n",
    "    for i in range(2,r):\n",
    "        if(num%i==0):\n",
    "            flag=1\n",
    "            break\n",
    "        \n",
    "        \n",
    "    return flag\n",
    "\n",
    "def RSA(a,b):\n",
    "    print(\"prime number {} and {}\".format(a,b))\n",
    "    \n",
    "    N=a*b\n",
    "    product=(a-1)*(b-1)\n",
    "    \n",
    "    #finding E\n",
    "    \n",
    "    for i in range(1,99999):\n",
    "        if product%i==0:\n",
    "            E=i\n",
    "            break\n",
    "            \n",
    "            \n",
    "    #finding D\n",
    "    for i in range(0,product-1):\n",
    "        if ((i*E)%product==1):\n",
    "            D=i\n",
    "            break\n",
    "            \n",
    "            \n",
    "    PT=[]\n",
    "    pt=[]\n",
    "    ct=[]\n",
    "    CT=[]\n",
    "    \n",
    "    PT=input(\"Enter the plain text:\")\n",
    "    for i in PT:\n",
    "        pt.append(ord(i))\n",
    "    print(\"plain text:\", PT)\n",
    "    for i in pt:\n",
    "        ct.append((i**E)%N)\n",
    "        \n",
    "    print(\"cipher text:\",ct)\n",
    "    \n",
    "    for i in ct:\n",
    "        CT.append(chr(((i**D)%N)))\n",
    "        \n",
    "        \n",
    "    print(\"Decrypted key:\",end=\"\")\n",
    "    for i in CT:\n",
    "        print(i,end=\"\")\n",
    "        \n",
    "        \n",
    "N=0\n",
    "E=0\n",
    "D=0\n",
    "generate_key()\n",
    "        "
   ]
  },
  {
   "cell_type": "code",
   "execution_count": null,
   "id": "750a00ce",
   "metadata": {},
   "outputs": [],
   "source": [
    "## AES"
   ]
  },
  {
   "cell_type": "code",
   "execution_count": 21,
   "id": "a39709e3",
   "metadata": {},
   "outputs": [
    {
     "name": "stdout",
     "output_type": "stream",
     "text": [
      "b'`\\x8b\\xbaC-\\xac:\\x85\\xd9\\xad\\xe6\\x14\\x13BD\\xb2z,\\x94\\xa0\\xf4FBli?2XrnT\\xca'\n",
      "Hello, Your Security Buddy!\n"
     ]
    }
   ],
   "source": [
    "import os\n",
    "from Crypto.Util.Padding import pad,unpad\n",
    "from Crypto.Cipher import AES\n",
    "\n",
    "\n",
    "def getkey(keysize):\n",
    "    key=os.urandom(keysize)\n",
    "    return key\n",
    "\n",
    "def getIV(blocksize):\n",
    "    iv=os.urandom(blocksize)\n",
    "    return iv\n",
    "    \n",
    "    \n",
    "KEYSIZE=16\n",
    "BLOCKSIZE=16\n",
    "\n",
    "plaintext=\"Hello, Your Security Buddy!\"\n",
    "key=getkey(KEYSIZE)\n",
    "iv=getIV(BLOCKSIZE)\n",
    "\n",
    "cipher1 =AES.new(key,AES.MODE_CBC,iv)\n",
    "ciphertext=cipher1.encrypt(pad(plaintext.encode(),BLOCKSIZE))\n",
    "\n",
    "print(ciphertext)\n",
    "\n",
    "cipher2=AES.new(key,AES.MODE_CBC,iv)\n",
    "plaintext2=unpad(cipher2.decrypt(ciphertext),BLOCKSIZE)\n",
    "\n",
    "print(plaintext2.decode())"
   ]
  },
  {
   "cell_type": "code",
   "execution_count": null,
   "id": "02aa2708",
   "metadata": {},
   "outputs": [],
   "source": []
  }
 ],
 "metadata": {
  "kernelspec": {
   "display_name": "Python 3",
   "language": "python",
   "name": "python3"
  },
  "language_info": {
   "codemirror_mode": {
    "name": "ipython",
    "version": 3
   },
   "file_extension": ".py",
   "mimetype": "text/x-python",
   "name": "python",
   "nbconvert_exporter": "python",
   "pygments_lexer": "ipython3",
   "version": "3.8.8"
  }
 },
 "nbformat": 4,
 "nbformat_minor": 5
}
